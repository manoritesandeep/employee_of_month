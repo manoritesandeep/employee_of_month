{
 "cells": [
  {
   "cell_type": "code",
   "execution_count": 1,
   "id": "decb6ca3",
   "metadata": {},
   "outputs": [],
   "source": [
    "work_hours = [('Sam', 100),('Rads', 250),('Brown', 231),('Tatum', 450),('Anthony', 376)]"
   ]
  },
  {
   "cell_type": "code",
   "execution_count": 11,
   "id": "2534356d",
   "metadata": {},
   "outputs": [],
   "source": [
    "def employee_check(work_hours):\n",
    "    \n",
    "    #this function tells the employee of the month based on the tuple provided.\n",
    "    \n",
    "    current_max = 0\n",
    "    employee_of_month = ''\n",
    "    \n",
    "    for employee,hours in work_hours:\n",
    "        if hours > current_max:\n",
    "            current_max = hours\n",
    "            employee_of_month = employee\n",
    "            \n",
    "        else:\n",
    "            pass\n",
    "        \n",
    "    return(employee_of_month, current_max)"
   ]
  },
  {
   "cell_type": "code",
   "execution_count": 12,
   "id": "2ff8d41c",
   "metadata": {},
   "outputs": [],
   "source": [
    "result = employee_check(work_hours)"
   ]
  },
  {
   "cell_type": "code",
   "execution_count": 13,
   "id": "c05c1f11",
   "metadata": {},
   "outputs": [],
   "source": [
    "item = employee_check(work_hours)"
   ]
  },
  {
   "cell_type": "code",
   "execution_count": 14,
   "id": "a1440638",
   "metadata": {},
   "outputs": [
    {
     "data": {
      "text/plain": [
       "('Tatum', 450)"
      ]
     },
     "execution_count": 14,
     "metadata": {},
     "output_type": "execute_result"
    }
   ],
   "source": [
    "item"
   ]
  },
  {
   "cell_type": "code",
   "execution_count": null,
   "id": "ee5cab40",
   "metadata": {},
   "outputs": [],
   "source": []
  }
 ],
 "metadata": {
  "kernelspec": {
   "display_name": "Python 3 (ipykernel)",
   "language": "python",
   "name": "python3"
  },
  "language_info": {
   "codemirror_mode": {
    "name": "ipython",
    "version": 3
   },
   "file_extension": ".py",
   "mimetype": "text/x-python",
   "name": "python",
   "nbconvert_exporter": "python",
   "pygments_lexer": "ipython3",
   "version": "3.8.8"
  }
 },
 "nbformat": 4,
 "nbformat_minor": 5
}
